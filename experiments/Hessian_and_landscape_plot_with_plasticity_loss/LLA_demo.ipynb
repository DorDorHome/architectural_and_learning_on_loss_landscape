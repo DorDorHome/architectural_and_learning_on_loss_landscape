{
 "cells": [
  {
   "cell_type": "markdown",
   "id": "dd853792",
   "metadata": {},
   "source": [
    "# LLA Demo Notebook\n",
    "\n",
    "End-to-end demo for the Loss-Landscape-and-Analysis (LLA) pipeline in this repo.\n",
    "\n",
    "What this notebook does:\n",
    "- Loads the lightweight pipeline in `lla_pipeline.py`.\n",
    "- Builds a small model/dataset from config.\n",
    "- Runs a very short fine-tune to produce checkpoints.\n",
    "- Computes Hessian axes, evaluates a loss plane, approximates a SAM surface,\n",
    "  estimates a Hessian spectrum, evaluates a simple mode-connectivity curve,\n",
    "  and collects basic rank statistics at checkpoints.\n",
    "\n",
    "Outputs are written to `experiments/Hessian_and_landscape_plot_with_plasticity_loss/results/demo_notebook`."
   ]
  },
  {
   "cell_type": "code",
   "execution_count": 1,
   "id": "f3410800",
   "metadata": {},
   "outputs": [
    {
     "name": "stdout",
     "output_type": "stream",
     "text": [
      "Using device: cuda:0\n"
     ]
    }
   ],
   "source": [
    "from pathlib import Path\n",
    "import json, os, time, sys\n",
    "import numpy as np\n",
    "import matplotlib.pyplot as plt\n",
    "import torch\n",
    "\n",
    "# Load YAML config with robust path resolution and set up imports\n",
    "import yaml\n",
    "# Try to resolve the experiment directory whether the working directory is repo root or the notebook's folder.\n",
    "try:\n",
    "    nb_dir = Path(__file__).resolve().parent\n",
    "except NameError:\n",
    "    nb_dir = Path.cwd()\n",
    "\n",
    "# If we're already inside the experiment folder (where this notebook lives)\n",
    "if (nb_dir / 'lla_pipeline.py').exists() and (nb_dir / 'cfg' / 'config.yaml').exists():\n",
    "    exp_dir = nb_dir\n",
    "# Otherwise, assume repo-root working dir and compose the experiment path\n",
    "elif (nb_dir / 'experiments' / 'Hessian_and_landscape_plot_with_plasticity_loss').exists():\n",
    "    exp_dir = nb_dir / 'experiments' / 'Hessian_and_landscape_plot_with_plasticity_loss'\n",
    "elif (Path.cwd() / 'experiments' / 'Hessian_and_landscape_plot_with_plasticity_loss').exists():\n",
    "    exp_dir = Path.cwd() / 'experiments' / 'Hessian_and_landscape_plot_with_plasticity_loss'\n",
    "else:\n",
    "    raise FileNotFoundError('Cannot locate experiment directory. Please run this notebook from the project workspace or the experiment folder.')\n",
    "\n",
    "# Ensure we can import lla_pipeline.py directly\n",
    "if str(exp_dir) not in sys.path:\n",
    "    sys.path.insert(0, str(exp_dir))\n",
    "\n",
    "# Import the pipeline utilities (from local file in this folder)\n",
    "from lla_pipeline import (\n",
    "    prepare_data_and_model,\n",
    "    quick_finetune_and_checkpoint,\n",
    "    get_hessian_axes,\n",
    "    plot_plane,\n",
    "    compute_spectrum,\n",
    "    plot_sam_surface,\n",
    "    fit_mode_connectivity,\n",
    "    plot_mode_curve,\n",
    "    compute_rank_stats_at_checkpoints,\n",
    ")\n",
    "\n",
    "cfg_path = exp_dir / 'cfg' / 'config.yaml'\n",
    "with open(cfg_path, 'r') as f:\n",
    "    cfg = yaml.safe_load(f)\n",
    "\n",
    "# Light overrides for fast demo\n",
    "cfg['seed'] = 123\n",
    "cfg['lla']['training']['epochs_short'] = 0  # keep at 0 or 1 for speed\n",
    "cfg['lla']['training']['max_checkpoints'] = 4\n",
    "cfg['lla']['evaluation_data']['eval_batch_size'] = 128\n",
    "cfg['lla']['planes']['grid_resolution'] = 21\n",
    "cfg['lla']['spectrum']['top_k'] = 3\n",
    "cfg['lla']['spectrum']['hutchinson_probes'] = 4\n",
    "\n",
    "device = cfg.get('device', 'cuda:0' if torch.cuda.is_available() else 'cpu')\n",
    "cfg['device'] = device\n",
    "print('Using device:', device)"
   ]
  },
  {
   "cell_type": "code",
   "execution_count": 2,
   "id": "b16d8156",
   "metadata": {},
   "outputs": [
    {
     "name": "stdout",
     "output_type": "stream",
     "text": [
      "Files already downloaded and verified\n",
      "Files already downloaded and verified\n",
      "Files already downloaded and verified\n",
      "Batches per epoch (train): 196\n",
      "Eval batch size: 128\n",
      "Batches per epoch (train): 196\n",
      "Eval batch size: 128\n"
     ]
    }
   ],
   "source": [
    "# Prepare data and model\n",
    "train_loader, eval_loader, model = prepare_data_and_model(cfg)\n",
    "print('Batches per epoch (train):', len(train_loader))\n",
    "print('Eval batch size:', cfg['lla']['evaluation_data']['eval_batch_size'])"
   ]
  },
  {
   "cell_type": "code",
   "execution_count": 4,
   "id": "64d915ad",
   "metadata": {},
   "outputs": [
    {
     "name": "stdout",
     "output_type": "stream",
     "text": [
      "Output dir: /hdda/models/my_own_models/architectural_and_learning_on_loss_landscape/experiments/Hessian_and_landscape_plot_with_plasticity_loss/results/demo_notebook\n",
      "Checkpoints: ['ckpt_final.pt']\n",
      "Loaded base state from ckpt_final.pt\n"
     ]
    }
   ],
   "source": [
    "# Create output directory for this demo run\n",
    "out_dir = exp_dir / 'results' / 'demo_notebook'\n",
    "out_dir.mkdir(parents=True, exist_ok=True)\n",
    "print('Output dir:', out_dir)\n",
    "\n",
    "# Short fine-tune and checkpoints\n",
    "ckpts = quick_finetune_and_checkpoint(cfg, model, train_loader, out_dir)\n",
    "print('Checkpoints:', [Path(p).name for p in ckpts])\n",
    "\n",
    "# Load last checkpoint as base state\n",
    "last_ckpt = ckpts[-1]\n",
    "base = torch.load(last_ckpt, map_location=device)\n",
    "base_state = base.get('state_dict', base)\n",
    "model.load_state_dict({**model.state_dict(), **base_state}, strict=False)\n",
    "print('Loaded base state from', Path(last_ckpt).name)"
   ]
  },
  {
   "cell_type": "code",
   "execution_count": 6,
   "id": "d6c1a8fc",
   "metadata": {},
   "outputs": [
    {
     "name": "stdout",
     "output_type": "stream",
     "text": [
      "Hessian meta: {'rayleigh_top1': 0.35403069853782654, 'rayleigh_top2': 0.29969140887260437, 'dim': 178250, 'power_iters': 20, 'algorithm': 'power_iteration+deflation', 'time_seconds': 0.28147125244140625}\n",
      "[TIMING][plane:hessian] grid_eval_forward_passes=441 total_time=0.62s avg_per_point=0.0014s\n",
      "Plane info: {'grid_resolution': 21, 'span': {'alpha': [-1.0, 1.0], 'beta': [-1.0, 1.0]}, 'npy': '/hdda/models/my_own_models/architectural_and_learning_on_loss_landscape/experiments/Hessian_and_landscape_plot_with_plasticity_loss/results/demo_notebook/planes/plane_hessian.npy', 'png': '/hdda/models/my_own_models/architectural_and_learning_on_loss_landscape/experiments/Hessian_and_landscape_plot_with_plasticity_loss/results/demo_notebook/planes/plane_hessian.png'}\n",
      "[TIMING][plane:hessian] grid_eval_forward_passes=441 total_time=0.62s avg_per_point=0.0014s\n",
      "Plane info: {'grid_resolution': 21, 'span': {'alpha': [-1.0, 1.0], 'beta': [-1.0, 1.0]}, 'npy': '/hdda/models/my_own_models/architectural_and_learning_on_loss_landscape/experiments/Hessian_and_landscape_plot_with_plasticity_loss/results/demo_notebook/planes/plane_hessian.npy', 'png': '/hdda/models/my_own_models/architectural_and_learning_on_loss_landscape/experiments/Hessian_and_landscape_plot_with_plasticity_loss/results/demo_notebook/planes/plane_hessian.png'}\n"
     ]
    }
   ],
   "source": [
    "# Compute Hessian axes and plot a loss plane\n",
    "v1, v2, meta = get_hessian_axes(model, eval_loader, cfg)\n",
    "print('Hessian meta:', meta)\n",
    "planes_dir = out_dir / 'planes'\n",
    "planes_dir.mkdir(exist_ok=True)\n",
    "plane_info = plot_plane(model, base_state, (v1, v2), eval_loader, cfg, planes_dir, label='hessian')\n",
    "print('Plane info:', plane_info)\n",
    "\n",
    "# Show the heatmap\n",
    "img_path = Path(plane_info['png'])\n",
    "img = plt.imread(img_path)\n",
    "plt.figure(figsize=(5,4))\n",
    "plt.imshow(img)\n",
    "plt.axis('off')\n",
    "plt.show()"
   ]
  },
  {
   "cell_type": "code",
   "execution_count": 7,
   "id": "80ca4414",
   "metadata": {},
   "outputs": [
    {
     "name": "stdout",
     "output_type": "stream",
     "text": [
      "[TIMING][spectrum] dim=178250 topk(k=3)=0.36s hutchinson(probes=4)=0.04s esd_slq(probes=8,m=50)=4.71s total=5.11s\n",
      "[METRICS][spectrum] top2_eigs≈ [0.2517, 0.1399] (k=3)\n",
      "{\n",
      "  \"top_k\": [\n",
      "    0.2516879737377167,\n",
      "    0.13988856971263885,\n",
      "    -0.14011691510677338\n",
      "  ],\n",
      "  \"hutchinson_trace\": -4.267018139362335,\n",
      "  \"dim\": 178250,\n",
      "  \"k_used\": 3,\n",
      "  \"probes\": 4,\n",
      "  \"timing_seconds\": {\n",
      "    \"topk\": 0.36278820037841797,\n",
      "    \"hutchinson_trace\": 0.03934645652770996,\n",
      "    \"esd_slq\": 4.7093658447265625,\n",
      "    \"total\": 5.11150050163269\n",
      "  },\n",
      "  \"esd\": {\n",
      "    \"n_grid\": 200,\n",
      "    \"probes\": 8,\n",
      "    \"m\": 50,\n",
      "    \"lanczos_m\": 50,\n",
      "    \"avg_steps\": 50.0,\n",
      "    \"lam_min\": -0.347922095656395,\n",
      "    \"lam_max\": 0.3886063784360886,\n",
      "    \"sigma\": 0.01339143680168152,\n",
      "    \"png\": \"/hdda/models/my_own_models/architectural_and_learning_on_loss_landscape/experiments/Hessian_and_landscape_plot_with_plasticity_loss/results/demo_notebook/spectrum_esd.png\",\n",
      "    \"npy\": \"/hdda/models/my_own_models/architectural_and_learning_on_loss_landscape/experiments/Hessian_and_landscape_plot_with_plasticity_loss/results/demo_notebook/spectrum_esd.npy\"\n",
      "  }\n",
      "}\n"
     ]
    }
   ],
   "source": [
    "# Hessian spectrum (top-k) + Hutchinson trace\n",
    "spec = compute_spectrum(model, eval_loader, cfg, out_dir)\n",
    "print(json.dumps(spec, indent=2))"
   ]
  },
  {
   "cell_type": "code",
   "execution_count": 8,
   "id": "b38baaeb",
   "metadata": {},
   "outputs": [
    {
     "name": "stdout",
     "output_type": "stream",
     "text": [
      "[TIMING][sam_surface] grid_eval_points=441 rho=0.05 total_time=1.63s avg_per_point=0.0037s (includes grad norm)\n",
      "{'npy': '/hdda/models/my_own_models/architectural_and_learning_on_loss_landscape/experiments/Hessian_and_landscape_plot_with_plasticity_loss/results/demo_notebook/sam_surface.npy', 'png': '/hdda/models/my_own_models/architectural_and_learning_on_loss_landscape/experiments/Hessian_and_landscape_plot_with_plasticity_loss/results/demo_notebook/sam_surface.png', 'rho': 0.05}\n"
     ]
    }
   ],
   "source": [
    "# SAM approximate surface on the same plane\n",
    "sam_info = plot_sam_surface(model, base_state, (v1, v2), eval_loader, cfg, out_dir)\n",
    "print(sam_info)\n",
    "img = plt.imread(sam_info['png'])\n",
    "plt.figure(figsize=(5,4))\n",
    "plt.imshow(img)\n",
    "plt.axis('off')\n",
    "plt.show()"
   ]
  },
  {
   "cell_type": "code",
   "execution_count": 9,
   "id": "7dd7a446",
   "metadata": {},
   "outputs": [
    {
     "ename": "AttributeError",
     "evalue": "'dict' object has no attribute 'type'",
     "output_type": "error",
     "traceback": [
      "\u001b[0;31m---------------------------------------------------------------------------\u001b[0m",
      "\u001b[0;31mAttributeError\u001b[0m                            Traceback (most recent call last)",
      "Cell \u001b[0;32mIn[9], line 11\u001b[0m\n\u001b[1;32m      9\u001b[0m B \u001b[38;5;241m=\u001b[39m B_state\u001b[38;5;241m.\u001b[39mget(\u001b[38;5;124m'\u001b[39m\u001b[38;5;124mstate_dict\u001b[39m\u001b[38;5;124m'\u001b[39m, B_state)\n\u001b[1;32m     10\u001b[0m thetaM, _ \u001b[38;5;241m=\u001b[39m fit_mode_connectivity(_model_fn, A, B, cfg, out_dir)\n\u001b[0;32m---> 11\u001b[0m mode_info \u001b[38;5;241m=\u001b[39m \u001b[43mplot_mode_curve\u001b[49m\u001b[43m(\u001b[49m\u001b[43m_model_fn\u001b[49m\u001b[43m,\u001b[49m\u001b[43m \u001b[49m\u001b[43mA\u001b[49m\u001b[43m,\u001b[49m\u001b[43m \u001b[49m\u001b[43mthetaM\u001b[49m\u001b[43m,\u001b[49m\u001b[43m \u001b[49m\u001b[43mB\u001b[49m\u001b[43m,\u001b[49m\u001b[43m \u001b[49m\u001b[43mcfg\u001b[49m\u001b[43m,\u001b[49m\u001b[43m \u001b[49m\u001b[43mout_dir\u001b[49m\u001b[43m)\u001b[49m\n\u001b[1;32m     12\u001b[0m \u001b[38;5;28mprint\u001b[39m(mode_info)\n\u001b[1;32m     13\u001b[0m img \u001b[38;5;241m=\u001b[39m plt\u001b[38;5;241m.\u001b[39mimread(mode_info[\u001b[38;5;124m'\u001b[39m\u001b[38;5;124mpng\u001b[39m\u001b[38;5;124m'\u001b[39m])\n",
      "File \u001b[0;32m~/anaconda3/envs/loss_landscape/lib/python3.9/site-packages/torch/autograd/grad_mode.py:28\u001b[0m, in \u001b[0;36m_DecoratorContextManager.__call__.<locals>.decorate_context\u001b[0;34m(*args, **kwargs)\u001b[0m\n\u001b[1;32m     25\u001b[0m \u001b[38;5;129m@functools\u001b[39m\u001b[38;5;241m.\u001b[39mwraps(func)\n\u001b[1;32m     26\u001b[0m \u001b[38;5;28;01mdef\u001b[39;00m \u001b[38;5;21mdecorate_context\u001b[39m(\u001b[38;5;241m*\u001b[39margs, \u001b[38;5;241m*\u001b[39m\u001b[38;5;241m*\u001b[39mkwargs):\n\u001b[1;32m     27\u001b[0m     \u001b[38;5;28;01mwith\u001b[39;00m \u001b[38;5;28mself\u001b[39m\u001b[38;5;241m.\u001b[39m\u001b[38;5;18m__class__\u001b[39m():\n\u001b[0;32m---> 28\u001b[0m         \u001b[38;5;28;01mreturn\u001b[39;00m \u001b[43mfunc\u001b[49m\u001b[43m(\u001b[49m\u001b[38;5;241;43m*\u001b[39;49m\u001b[43margs\u001b[49m\u001b[43m,\u001b[49m\u001b[43m \u001b[49m\u001b[38;5;241;43m*\u001b[39;49m\u001b[38;5;241;43m*\u001b[39;49m\u001b[43mkwargs\u001b[49m\u001b[43m)\u001b[49m\n",
      "File \u001b[0;32m/hdda/models/my_own_models/architectural_and_learning_on_loss_landscape/experiments/Hessian_and_landscape_plot_with_plasticity_loss/lla_pipeline.py:704\u001b[0m, in \u001b[0;36mplot_mode_curve\u001b[0;34m(model_fn, thetaA, thetaM, thetaB, cfg, out_dir)\u001b[0m\n\u001b[1;32m    701\u001b[0m criterion \u001b[38;5;241m=\u001b[39m _criterion_from_cfg(cfg)\n\u001b[1;32m    702\u001b[0m \u001b[38;5;66;03m# Build a fresh model for evaluation and a batch\u001b[39;00m\n\u001b[1;32m    703\u001b[0m \u001b[38;5;66;03m# model_fn should create a new model\u001b[39;00m\n\u001b[0;32m--> 704\u001b[0m model \u001b[38;5;241m=\u001b[39m \u001b[43mmodel_fn\u001b[49m\u001b[43m(\u001b[49m\u001b[43m)\u001b[49m\n\u001b[1;32m    705\u001b[0m model\u001b[38;5;241m.\u001b[39mto(device)\n\u001b[1;32m    706\u001b[0m \u001b[38;5;66;03m# Need eval_loader; simplest is to rebuild data quickly\u001b[39;00m\n\u001b[1;32m    707\u001b[0m \u001b[38;5;66;03m# Assumption: same dataset config\u001b[39;00m\n",
      "Cell \u001b[0;32mIn[9], line 4\u001b[0m, in \u001b[0;36m_model_fn\u001b[0;34m()\u001b[0m\n\u001b[1;32m      2\u001b[0m \u001b[38;5;28;01mdef\u001b[39;00m \u001b[38;5;21m_model_fn\u001b[39m():\n\u001b[1;32m      3\u001b[0m     \u001b[38;5;28;01mfrom\u001b[39;00m \u001b[38;5;21;01msrc\u001b[39;00m\u001b[38;5;21;01m.\u001b[39;00m\u001b[38;5;21;01mmodels\u001b[39;00m\u001b[38;5;21;01m.\u001b[39;00m\u001b[38;5;21;01mmodel_factory\u001b[39;00m \u001b[38;5;28;01mimport\u001b[39;00m model_factory\n\u001b[0;32m----> 4\u001b[0m     \u001b[38;5;28;01mreturn\u001b[39;00m \u001b[43mmodel_factory\u001b[49m\u001b[43m(\u001b[49m\u001b[43mcfg\u001b[49m\u001b[43m[\u001b[49m\u001b[38;5;124;43m'\u001b[39;49m\u001b[38;5;124;43mnet\u001b[39;49m\u001b[38;5;124;43m'\u001b[39;49m\u001b[43m]\u001b[49m\u001b[43m)\u001b[49m\n",
      "File \u001b[0;32m/hdda/models/my_own_models/architectural_and_learning_on_loss_landscape/src/models/model_factory.py:83\u001b[0m, in \u001b[0;36mmodel_factory\u001b[0;34m(config)\u001b[0m\n\u001b[1;32m     70\u001b[0m \u001b[38;5;250m\u001b[39m\u001b[38;5;124;03m\"\"\"\u001b[39;00m\n\u001b[1;32m     71\u001b[0m \u001b[38;5;124;03mFactory function to create model instances based on the configuration.\u001b[39;00m\n\u001b[1;32m     72\u001b[0m \n\u001b[0;32m   (...)\u001b[0m\n\u001b[1;32m     80\u001b[0m \u001b[38;5;124;03m    ValueError: If the specified model type is unsupported.\u001b[39;00m\n\u001b[1;32m     81\u001b[0m \u001b[38;5;124;03m\"\"\"\u001b[39;00m\n\u001b[1;32m     82\u001b[0m \u001b[38;5;66;03m# Get the model type from the configuration. expect a string\u001b[39;00m\n\u001b[0;32m---> 83\u001b[0m model_type \u001b[38;5;241m=\u001b[39m \u001b[43mconfig\u001b[49m\u001b[38;5;241;43m.\u001b[39;49m\u001b[43mtype\u001b[49m\n\u001b[1;32m     85\u001b[0m \u001b[38;5;66;03m# if model_type = 'convnet', return an instance of ConvNet:\u001b[39;00m\n\u001b[1;32m     86\u001b[0m \u001b[38;5;28;01mif\u001b[39;00m model_type \u001b[38;5;241m==\u001b[39m \u001b[38;5;124m'\u001b[39m\u001b[38;5;124mConvNet\u001b[39m\u001b[38;5;124m'\u001b[39m:\n",
      "\u001b[0;31mAttributeError\u001b[0m: 'dict' object has no attribute 'type'"
     ]
    }
   ],
   "source": [
    "# Mode connectivity curve between first and last ckpt\n",
    "def _model_fn():\n",
    "    from src.models.model_factory import model_factory\n",
    "    return model_factory(cfg['net'])\n",
    "\n",
    "A_state = torch.load(ckpts[0], map_location=device)\n",
    "A = A_state.get('state_dict', A_state)\n",
    "B_state = torch.load(ckpts[-1], map_location=device)\n",
    "B = B_state.get('state_dict', B_state)\n",
    "thetaM, _ = fit_mode_connectivity(_model_fn, A, B, cfg, out_dir)\n",
    "mode_info = plot_mode_curve(_model_fn, A, thetaM, B, cfg, out_dir)\n",
    "print(mode_info)\n",
    "img = plt.imread(mode_info['png'])\n",
    "plt.figure(figsize=(5,4))\n",
    "plt.plot(np.load(mode_info['npy']))\n",
    "plt.xlabel('t index')\n",
    "plt.ylabel('loss')\n",
    "plt.title('Mode connectivity (loss vs. t)')\n",
    "plt.show()"
   ]
  },
  {
   "cell_type": "code",
   "execution_count": null,
   "id": "a224973c",
   "metadata": {},
   "outputs": [],
   "source": [
    "# Rank stats across checkpoints (keep list short for speed)\n",
    "subset_ckpts = ckpts[-3:] if len(ckpts) > 3 else ckpts\n",
    "rank_stats = compute_rank_stats_at_checkpoints(cfg['net'], subset_ckpts, cfg, eval_loader)\n",
    "print('Computed rank stats for', len(rank_stats['checkpoints']), 'checkpoints')\n",
    "print(json.dumps(rank_stats['checkpoints'][0], indent=2)[:1000])  # preview first checkpoint only\n",
    "# Save full JSON\n",
    "(out_dir / 'rank_stats_demo.json').write_text(json.dumps(rank_stats, indent=2))\n",
    "print('Saved to', out_dir / 'rank_stats_demo.json')"
   ]
  },
  {
   "cell_type": "markdown",
   "id": "c7e9975f",
   "metadata": {},
   "source": [
    "## Notes\n",
    "- Adjust `grid_resolution`, `top_k`, `epochs_short`, and `eval_batch_size` above for fidelity vs. speed.\n",
    "- All functions are lightweight and self-contained (no external repos).\n",
    "- Artifacts are saved under the `results/demo_notebook` folder for easy review."
   ]
  },
  {
   "cell_type": "markdown",
   "id": "58455393",
   "metadata": {},
   "source": []
  },
  {
   "cell_type": "markdown",
   "id": "c5b74c63",
   "metadata": {},
   "source": []
  },
  {
   "cell_type": "markdown",
   "id": "dddc2729",
   "metadata": {},
   "source": []
  },
  {
   "cell_type": "markdown",
   "id": "74d47801",
   "metadata": {},
   "source": [
    "## 3D views of 2D loss surfaces\n",
    "\n",
    "Below we render 3D surfaces for the Hessian-aligned plane, random-direction plane, random-base plane, and the SAM robust surface.\n",
    "Each figure saves alongside the 2D heatmaps as *_3d.png."
   ]
  },
  {
   "cell_type": "code",
   "execution_count": null,
   "id": "e03e3fbc",
   "metadata": {},
   "outputs": [],
   "source": [
    "# Render 3D: Hessian-aligned plane\n",
    "import numpy as np\n",
    "import matplotlib.pyplot as plt\n",
    "from mpl_toolkits.mplot3d import Axes3D  # noqa: F401\n",
    "\n",
    "plane_npy = planes_dir / 'plane_hessian.npy'\n",
    "Z = np.load(plane_npy)\n",
    "# alpha/beta extents from spec span in cfg (or infer from shape/grid)\n",
    "res = Z.shape[0]\n",
    "a0, a1 = -cfg['lla']['planes'].get('span', 1.0), cfg['lla']['planes'].get('span', 1.0)\n",
    "b0, b1 = a0, a1\n",
    "X, Y = np.meshgrid(np.linspace(a0, a1, res), np.linspace(b0, b1, res), indexing='ij')\n",
    "\n",
    "fig = plt.figure(figsize=(6,5))\n",
    "ax = fig.add_subplot(111, projection='3d')\n",
    "ax.plot_surface(X, Y, Z, cmap='viridis', linewidth=0, antialiased=True)\n",
    "ax.set_xlabel('alpha'); ax.set_ylabel('beta'); ax.set_zlabel('loss')\n",
    "ax.set_title('Loss plane 3D: hessian')\n",
    "plt.show()"
   ]
  },
  {
   "cell_type": "code",
   "execution_count": null,
   "id": "b8115aae",
   "metadata": {},
   "outputs": [],
   "source": [
    "# Render 3D: random-direction plane\n",
    "Z = np.load(planes_dir / 'plane_random_dirs.npy')\n",
    "res = Z.shape[0]\n",
    "a0, a1 = -cfg['lla']['planes'].get('span', 1.0), cfg['lla']['planes'].get('span', 1.0)\n",
    "b0, b1 = a0, a1\n",
    "X, Y = np.meshgrid(np.linspace(a0, a1, res), np.linspace(b0, b1, res), indexing='ij')\n",
    "\n",
    "fig = plt.figure(figsize=(6,5))\n",
    "ax = fig.add_subplot(111, projection='3d')\n",
    "ax.plot_surface(X, Y, Z, cmap='viridis', linewidth=0, antialiased=True)\n",
    "ax.set_xlabel('alpha'); ax.set_ylabel('beta'); ax.set_zlabel('loss')\n",
    "ax.set_title('Loss plane 3D: random_dirs')\n",
    "plt.show()"
   ]
  },
  {
   "cell_type": "code",
   "execution_count": null,
   "id": "2d236bc8",
   "metadata": {},
   "outputs": [],
   "source": [
    "# Render 3D: random-base plane\n",
    "Z = np.load(planes_dir / 'plane_random_base.npy')\n",
    "res = Z.shape[0]\n",
    "a0, a1 = -cfg['lla']['planes'].get('span', 1.0), cfg['lla']['planes'].get('span', 1.0)\n",
    "b0, b1 = a0, a1\n",
    "X, Y = np.meshgrid(np.linspace(a0, a1, res), np.linspace(b0, b1, res), indexing='ij')\n",
    "\n",
    "fig = plt.figure(figsize=(6,5))\n",
    "ax = fig.add_subplot(111, projection='3d')\n",
    "ax.plot_surface(X, Y, Z, cmap='viridis', linewidth=0, antialiased=True)\n",
    "ax.set_xlabel('alpha'); ax.set_ylabel('beta'); ax.set_zlabel('loss')\n",
    "ax.set_title('Loss plane 3D: random_base')\n",
    "plt.show()"
   ]
  },
  {
   "cell_type": "code",
   "execution_count": null,
   "id": "cfa1c563",
   "metadata": {},
   "outputs": [],
   "source": [
    "# Render 3D: SAM robust surface\n",
    "import numpy as np\n",
    "import matplotlib.pyplot as plt\n",
    "from mpl_toolkits.mplot3d import Axes3D  # noqa: F401\n",
    "\n",
    "Z = np.load(out_dir / 'sam_surface.npy')\n",
    "res = Z.shape[0]\n",
    "a0, a1 = -cfg['lla']['planes'].get('span', 1.0), cfg['lla']['planes'].get('span', 1.0)\n",
    "b0, b1 = a0, a1\n",
    "X, Y = np.meshgrid(np.linspace(a0, a1, res), np.linspace(b0, b1, res), indexing='ij')\n",
    "\n",
    "fig = plt.figure(figsize=(6,5))\n",
    "ax = fig.add_subplot(111, projection='3d')\n",
    "ax.plot_surface(X, Y, Z, cmap='magma', linewidth=0, antialiased=True)\n",
    "ax.set_xlabel('alpha'); ax.set_ylabel('beta'); ax.set_zlabel('robust loss')\n",
    "ax.set_title('SAM approx surface (3D)')\n",
    "plt.show()"
   ]
  }
 ],
 "metadata": {
  "kernelspec": {
   "display_name": "loss_landscape",
   "language": "python",
   "name": "python3"
  },
  "language_info": {
   "codemirror_mode": {
    "name": "ipython",
    "version": 3
   },
   "file_extension": ".py",
   "mimetype": "text/x-python",
   "name": "python",
   "nbconvert_exporter": "python",
   "pygments_lexer": "ipython3",
   "version": "3.9.18"
  }
 },
 "nbformat": 4,
 "nbformat_minor": 5
}
