{
 "cells": [
  {
   "cell_type": "code",
   "execution_count": 9,
   "metadata": {},
   "outputs": [
    {
     "data": {
      "text/plain": [
       "tensor([[[ 0,  1,  2,  3,  4],\n",
       "         [ 5,  6,  7,  8,  9],\n",
       "         [10, 11, 12, 13, 14],\n",
       "         [15, 16, 17, 18, 19],\n",
       "         [20, 21, 22, 23, 24]],\n",
       "\n",
       "        [[25, 26, 27, 28, 29],\n",
       "         [30, 31, 32, 33, 34],\n",
       "         [35, 36, 37, 38, 39],\n",
       "         [40, 41, 42, 43, 44],\n",
       "         [45, 46, 47, 48, 49]],\n",
       "\n",
       "        [[50, 51, 52, 53, 54],\n",
       "         [55, 56, 57, 58, 59],\n",
       "         [60, 61, 62, 63, 64],\n",
       "         [65, 66, 67, 68, 69],\n",
       "         [70, 71, 72, 73, 74]]])"
      ]
     },
     "execution_count": 9,
     "metadata": {},
     "output_type": "execute_result"
    }
   ],
   "source": [
    "import torch\n",
    "\n",
    "\n",
    "x = torch.arange(75).view(3, 5, 5)\n",
    "x\n"
   ]
  },
  {
   "cell_type": "markdown",
   "metadata": {},
   "source": []
  },
  {
   "cell_type": "code",
   "execution_count": 10,
   "metadata": {},
   "outputs": [
    {
     "data": {
      "text/plain": [
       "tensor([[[20, 21, 22, 23, 24],\n",
       "         [15, 16, 17, 18, 19],\n",
       "         [10, 11, 12, 13, 14],\n",
       "         [ 5,  6,  7,  8,  9],\n",
       "         [ 0,  1,  2,  3,  4]],\n",
       "\n",
       "        [[45, 46, 47, 48, 49],\n",
       "         [40, 41, 42, 43, 44],\n",
       "         [35, 36, 37, 38, 39],\n",
       "         [30, 31, 32, 33, 34],\n",
       "         [25, 26, 27, 28, 29]],\n",
       "\n",
       "        [[70, 71, 72, 73, 74],\n",
       "         [65, 66, 67, 68, 69],\n",
       "         [60, 61, 62, 63, 64],\n",
       "         [55, 56, 57, 58, 59],\n",
       "         [50, 51, 52, 53, 54]]])"
      ]
     },
     "execution_count": 10,
     "metadata": {},
     "output_type": "execute_result"
    }
   ],
   "source": [
    "torch.flip(x, [1])"
   ]
  },
  {
   "cell_type": "code",
   "execution_count": 6,
   "metadata": {},
   "outputs": [
    {
     "name": "stdout",
     "output_type": "stream",
     "text": [
      "Sorted Tensor:\n",
      " tensor([[[0, 1],\n",
      "         [2, 3]],\n",
      "\n",
      "        [[4, 5],\n",
      "         [6, 7]]])\n",
      "Indices of the sorted elements:\n",
      " tensor([[[0, 1],\n",
      "         [0, 1]],\n",
      "\n",
      "        [[0, 1],\n",
      "         [0, 1]]])\n"
     ]
    }
   ],
   "source": [
    "# Sort the tensor along the last dimension\n",
    "sorted_tensor, sorted_indices = torch.sort(x, dim=-1)\n",
    "print(\"Sorted Tensor:\\n\", sorted_tensor)\n",
    "print(\"Indices of the sorted elements:\\n\", sorted_indices)"
   ]
  },
  {
   "cell_type": "code",
   "execution_count": 14,
   "metadata": {},
   "outputs": [],
   "source": [
    "x = x.float()"
   ]
  },
  {
   "cell_type": "code",
   "execution_count": 23,
   "metadata": {},
   "outputs": [
    {
     "name": "stdout",
     "output_type": "stream",
     "text": [
      "Singular values of the tensor x:\n",
      " tensor([[6.9909e+01, 3.5761e+00, 2.0292e-06, 9.1606e-08, 5.3282e-10],\n",
      "        [1.8848e+02, 1.3264e+00, 4.7493e-06, 1.3992e-06, 4.1856e-07],\n",
      "        [3.1209e+02, 8.0105e-01, 8.4015e-06, 2.6620e-06, 3.4426e-07]])\n",
      "Shape of singular_values: torch.Size([3, 5])\n"
     ]
    }
   ],
   "source": [
    "singular_values = torch.linalg.svdvals(x)\n",
    "print(\"Singular values of the tensor x:\\n\", singular_values)\n",
    "print(\"Shape of singular_values:\", singular_values.shape)"
   ]
  },
  {
   "cell_type": "code",
   "execution_count": null,
   "metadata": {},
   "outputs": [],
   "source": [
    "print(\"x:\\n\", x)\n",
    "print(\"sorted_tensor:\\n\", sorted_tensor)\n",
    "print(\"sorted_indices:\\n\", sorted_indices)"
   ]
  },
  {
   "cell_type": "code",
   "execution_count": 24,
   "metadata": {},
   "outputs": [
    {
     "data": {
      "text/plain": [
       "torch.Size([3, 5])"
      ]
     },
     "execution_count": 24,
     "metadata": {},
     "output_type": "execute_result"
    }
   ],
   "source": [
    "singular_values.shape"
   ]
  },
  {
   "cell_type": "code",
   "execution_count": 25,
   "metadata": {},
   "outputs": [],
   "source": [
    "sv =singular_values\n",
    "sqrd_sv = sv**2\n",
    "normed_sqrd_sv = torch.flip(torch.sort(sqrd_sv / torch.sum(sqrd_sv, dim=-1, keepdim=True))[0], dims=(0,)) "
   ]
  },
  {
   "cell_type": "code",
   "execution_count": 26,
   "metadata": {},
   "outputs": [
    {
     "data": {
      "text/plain": [
       "tensor([1., 1., 1.])"
      ]
     },
     "execution_count": 26,
     "metadata": {},
     "output_type": "execute_result"
    }
   ],
   "source": [
    "torch.sum(normed_sqrd_sv, dim = -1)"
   ]
  },
  {
   "cell_type": "code",
   "execution_count": null,
   "metadata": {},
   "outputs": [],
   "source": []
  }
 ],
 "metadata": {
  "kernelspec": {
   "display_name": "loss_landscape",
   "language": "python",
   "name": "python3"
  },
  "language_info": {
   "codemirror_mode": {
    "name": "ipython",
    "version": 3
   },
   "file_extension": ".py",
   "mimetype": "text/x-python",
   "name": "python",
   "nbconvert_exporter": "python",
   "pygments_lexer": "ipython3",
   "version": "3.9.18"
  }
 },
 "nbformat": 4,
 "nbformat_minor": 2
}
