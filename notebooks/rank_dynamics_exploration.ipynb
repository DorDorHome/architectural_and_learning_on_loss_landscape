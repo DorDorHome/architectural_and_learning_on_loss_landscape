{
 "cells": [
  {
   "cell_type": "markdown",
   "id": "66b8e2c5",
   "metadata": {},
   "source": [
    "# Rank Dynamics Exploration\n",
    "\n",
    "This notebook is for interactive analysis of rank decay dynamics from Weights & Biases logs."
   ]
  },
  {
   "cell_type": "code",
   "execution_count": null,
   "id": "34b1ffec",
   "metadata": {},
   "outputs": [],
   "source": [
    "import wandb\n",
    "import numpy as np\n",
    "import pandas as pd\n",
    "import matplotlib.pyplot as plt\n",
    "from architectural_and_learning_on_loss_landscape.src.utils.zeroth_order_features import compute_rank_decay_dynamics\n",
    "\n",
    "# --- Configuration ---\n",
    "RUN_PATH = \"dordorhome/drifting_experiment_continuous_input_deformation/z9s2p5z2\"  # <-- REPLACE with your entity/project/run_id\n",
    "RANK_TYPE = \"effective_rank\"  # or 'approximate_rank', 'numerical_rank', etc.\n",
    "NUM_LAYERS = 5  # <-- REPLACE with the number of layers you tracked\n",
    "ANALYSIS_MODE = 'difference' # 'difference' or 'ratio'"
   ]
  },
  {
   "cell_type": "markdown",
   "id": "11fe9353",
   "metadata": {},
   "source": [
    "## Fetch Data from W&B"
   ]
  },
  {
   "cell_type": "code",
   "execution_count": null,
   "id": "dfb56a87",
   "metadata": {},
   "outputs": [],
   "source": [
    "api = wandb.Api()\n",
    "run = api.run(RUN_PATH)\n",
    "\n",
    "# Define the metric keys to fetch\n",
    "rank_metric_prefix = \"ranks/layer_\"\n",
    "rank_keys = [f\"{rank_metric_prefix}{i}/{RANK_TYPE}\" for i in range(NUM_LAYERS)]\n",
    "\n",
    "# Fetch history - this returns a pandas DataFrame\n",
    "history = run.history(keys=rank_keys, pandas=True)\n",
    "\n",
    "print(f\"Successfully fetched {len(history)} steps from run: {run.name}\")\n",
    "history.head()"
   ]
  },
  {
   "cell_type": "markdown",
   "id": "a61086af",
   "metadata": {},
   "source": [
    "## Compute Derived Dynamics Metrics"
   ]
  },
  {
   "cell_type": "code",
   "execution_count": null,
   "id": "b5caf7eb",
   "metadata": {},
   "outputs": [],
   "source": [
    "dynamics_results = []\n",
    "\n",
    "for index, row in history.iterrows():\n",
    "    # Extract ranks for the current step, ensuring correct order\n",
    "    ranks_at_step = [row[key] for key in rank_keys if key in row]\n",
    "    \n",
    "    if len(ranks_at_step) == NUM_LAYERS:\n",
    "        dynamics = compute_rank_decay_dynamics(ranks_at_step, mode=ANALYSIS_MODE)\n",
    "        dynamics['_step'] = row['_step']\n",
    "        dynamics_results.append(dynamics)\n",
    "\n",
    "dynamics_df = pd.DataFrame(dynamics_results)\n",
    "dynamics_df.head()"
   ]
  },
  {
   "cell_type": "markdown",
   "id": "93b89a9b",
   "metadata": {},
   "source": [
    "## Plot the Results"
   ]
  },
  {
   "cell_type": "code",
   "execution_count": null,
   "id": "7fea2654",
   "metadata": {},
   "outputs": [],
   "source": [
    "fig, axes = plt.subplots(3, 1, figsize=(12, 18), sharex=True)\n",
    "fig.suptitle(f'Rank Decay Dynamics ({ANALYSIS_MODE.capitalize()} Mode) for Run: {run.name}', fontsize=16)\n",
    "\n",
    "# Plot Gini Coefficient\n",
    "axes[0].plot(dynamics_df['_step'], dynamics_df['rank_drop_gini'], label='Gini Coefficient')\n",
    "axes[0].set_title('Rank Drop Gini Coefficient vs. Training Step')\n",
    "axes[0].set_ylabel('Gini Coefficient')\n",
    "axes[0].grid(True, linestyle='--')\n",
    "\n",
    "# Plot Rank Decay Centroid\n",
    "axes[1].plot(dynamics_df['_step'], dynamics_df['rank_decay_centroid'], label='Rank Decay Centroid')\n",
    "axes[1].set_title('Rank Decay Centroid vs. Training Step')\n",
    "axes[1].set_ylabel('Centroid (Layer Index)')\n",
    "axes[1].grid(True, linestyle='--')\n",
    "\n",
    "# Plot Normalized AURC\n",
    "axes[2].plot(dynamics_df['_step'], dynamics_df['normalized_aurc'], label='Normalized AURC')\n",
    "axes[2].set_title('Normalized AURC vs. Training Step')\n",
    "axes[2].set_ylabel('Normalized Area')\n",
    "axes[2].set_xlabel('Training Step')\n",
    "axes[2].grid(True, linestyle='--')\n",
    "\n",
    "plt.tight_layout(rect=[0, 0, 1, 0.96])\n",
    "plt.show()"
   ]
  }
 ],
 "metadata": {
  "language_info": {
   "name": "python"
  }
 },
 "nbformat": 4,
 "nbformat_minor": 5
}
